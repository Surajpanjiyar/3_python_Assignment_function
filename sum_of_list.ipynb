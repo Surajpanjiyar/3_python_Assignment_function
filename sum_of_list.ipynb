{
  "nbformat": 4,
  "nbformat_minor": 0,
  "metadata": {
    "colab": {
      "provenance": [],
      "authorship_tag": "ABX9TyNwbdJ2kFlWqxg5Zdn+Glsd",
      "include_colab_link": true
    },
    "kernelspec": {
      "name": "python3",
      "display_name": "Python 3"
    },
    "language_info": {
      "name": "python"
    }
  },
  "cells": [
    {
      "cell_type": "markdown",
      "metadata": {
        "id": "view-in-github",
        "colab_type": "text"
      },
      "source": [
        "<a href=\"https://colab.research.google.com/github/Surajpanjiyar/3_python_Assignment_function/blob/main/sum_of_list.ipynb\" target=\"_parent\"><img src=\"https://colab.research.google.com/assets/colab-badge.svg\" alt=\"Open In Colab\"/></a>"
      ]
    },
    {
      "cell_type": "code",
      "execution_count": 5,
      "metadata": {
        "colab": {
          "base_uri": "https://localhost:8080/"
        },
        "id": "YFpob78y4R6D",
        "outputId": "14939e9b-7fbc-434d-90c2-2f0575c3e678"
      },
      "outputs": [
        {
          "output_type": "stream",
          "name": "stdout",
          "text": [
            "Sum of all elements in given list  :  20\n"
          ]
        }
      ],
      "source": [
        "\n",
        "sum = 0\n",
        "\n",
        "a = (8, 2, 3, 0, 7)\n",
        "\n",
        "for i in range(0, len(a)):\n",
        "\tsum = sum + a[i]\n",
        "\n",
        "print(\"Sum of all elements in given list  : \", sum)\n"
      ]
    }
  ]
}